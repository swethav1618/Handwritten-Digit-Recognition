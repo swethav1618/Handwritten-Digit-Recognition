{
  "nbformat": 4,
  "nbformat_minor": 0,
  "metadata": {
    "colab": {
      "provenance": [],
      "authorship_tag": "ABX9TyMLgy73wccG+mztPKlBKoc8",
      "include_colab_link": true
    },
    "kernelspec": {
      "name": "python3",
      "display_name": "Python 3"
    },
    "language_info": {
      "name": "python"
    }
  },
  "cells": [
    {
      "cell_type": "markdown",
      "metadata": {
        "id": "view-in-github",
        "colab_type": "text"
      },
      "source": [
        "<a href=\"https://colab.research.google.com/github/swethav1618/Handwritten-Digit-Recognition/blob/main/Handwritten_Digit_Recognition.ipynb\" target=\"_parent\"><img src=\"https://colab.research.google.com/assets/colab-badge.svg\" alt=\"Open In Colab\"/></a>"
      ]
    },
    {
      "cell_type": "markdown",
      "source": [
        "1. Load the Dataset\n",
        "\n",
        "MNIST stands for Modified National Institute of Standards and Technology.\n",
        "\n",
        "It’s a classic dataset in machine learning and computer vision consisting of 70,000 handwritten digit images (0–9):\n",
        "\n",
        "60,000 training images\n",
        "\n",
        "10,000 test images\n",
        "\n",
        "Each image is grayscale, size 28×28 pixels, and labeled with the corresponding digit."
      ],
      "metadata": {
        "id": "NuFqivzdMF3C"
      }
    },
    {
      "cell_type": "code",
      "source": [
        "import torch\n",
        "import torchvision\n",
        "import torchvision.transforms as transforms\n",
        "\n",
        "# Transform: convert to tensor + normalize to [0,1]\n",
        "transform = transforms.Compose([\n",
        "    transforms.ToTensor(),\n",
        "    transforms.Normalize((0.5,), (0.5,))  # mean=0.5, std=0.5\n",
        "])\n",
        "\n",
        "# Load train & test datasets\n",
        "train_dataset = torchvision.datasets.MNIST(\n",
        "    root='./data',       # folder where the data will be stored\n",
        "    train=True,          # True → loads the 60,000 training images\n",
        "    download=True,       # downloads dataset if not already present\n",
        "    transform=transform  # preprocessing (ToTensor + Normalize)\n",
        ")\n",
        "\n",
        "test_dataset = torchvision.datasets.MNIST(\n",
        "    root='./data',\n",
        "    train=False,\n",
        "    download=True,\n",
        "    transform=transform\n",
        ")\n",
        "\n",
        "# Create data loaders\n",
        "train_loader = torch.utils.data.DataLoader(train_dataset, batch_size=64, shuffle=True)\n",
        "test_loader = torch.utils.data.DataLoader(test_dataset, batch_size=64, shuffle=False)\n"
      ],
      "metadata": {
        "id": "yeB7378Wj6AZ",
        "colab": {
          "base_uri": "https://localhost:8080/"
        },
        "outputId": "206739b9-0552-41f0-a9f6-c3b3139eba81"
      },
      "execution_count": null,
      "outputs": [
        {
          "output_type": "stream",
          "name": "stderr",
          "text": [
            "100%|██████████| 9.91M/9.91M [00:00<00:00, 36.0MB/s]\n",
            "100%|██████████| 28.9k/28.9k [00:00<00:00, 1.05MB/s]\n",
            "100%|██████████| 1.65M/1.65M [00:00<00:00, 9.32MB/s]\n",
            "100%|██████████| 4.54k/4.54k [00:00<00:00, 7.70MB/s]\n"
          ]
        }
      ]
    },
    {
      "cell_type": "markdown",
      "source": [
        "Here’s how one can visualize some samples from the DataLoader:"
      ],
      "metadata": {
        "id": "MsyITkMatHE_"
      }
    },
    {
      "cell_type": "code",
      "source": [
        "import matplotlib.pyplot as plt\n",
        "import numpy as np\n",
        "\n",
        "# Get one batch of training data\n",
        "dataiter = iter(train_loader)\n",
        "images, labels = next(dataiter)\n",
        "\n",
        "# Function to unnormalize and show image\n",
        "def imshow(img):\n",
        "    img = img / 2 + 0.5   # unnormalize (because you normalized with mean=0.5, std=0.5)\n",
        "    npimg = img.numpy()\n",
        "    plt.imshow(np.transpose(npimg, (1, 2, 0)), cmap='gray')\n",
        "    plt.show()\n",
        "\n",
        "# Show first 8 images in the batch\n",
        "imshow(torchvision.utils.make_grid(images[:8], nrow=8))\n",
        "print(\"Labels:\", ' '.join(str(labels[j].item()) for j in range(8)))\n"
      ],
      "metadata": {
        "colab": {
          "base_uri": "https://localhost:8080/",
          "height": 147
        },
        "id": "qU_d8LLctAid",
        "outputId": "e2bb97f9-dfbd-44ff-86f1-e1e551ef93fb"
      },
      "execution_count": null,
      "outputs": [
        {
          "output_type": "display_data",
          "data": {
            "text/plain": [
              "<Figure size 640x480 with 1 Axes>"
            ],
            "image/png": "[encoded data removed]"
          },
          "metadata": {}
        },
        {
          "output_type": "stream",
          "name": "stdout",
          "text": [
            "Labels: 7 0 1 4 2 1 1 9\n"
          ]
        }
      ]
    },
    {
      "cell_type": "markdown",
      "source": [
        "2. Build a CNN Model\n",
        "\n",
        "A Convolutional Neural Network (CNN) learns image features automatically.\n",
        "\n",
        "Layers:\n",
        "\n",
        "Conv2d → ReLU → MaxPool (feature extraction)\n",
        "\n",
        "Fully Connected (FC) layers (classification)"
      ],
      "metadata": {
        "id": "a4eNxpToMXcb"
      }
    },
    {
      "cell_type": "code",
      "source": [
        "import torch.nn as nn\n",
        "import torch.nn.functional as F\n",
        "\n",
        "class CNN(nn.Module):\n",
        "    def __init__(self):\n",
        "        super(CNN, self).__init__()\n",
        "        self.conv1 = nn.Conv2d(1, 32, kernel_size=3)   # input=1, output=32 filters\n",
        "        self.conv2 = nn.Conv2d(32, 64, kernel_size=3)  # output=64 filters\n",
        "        self.pool = nn.MaxPool2d(2, 2)\n",
        "        self.fc1 = nn.Linear(64 * 5 * 5, 128)          # flattened feature map\n",
        "        self.fc2 = nn.Linear(128, 10)                  # 10 classes (0-9)\n",
        "\n",
        "    def forward(self, x):\n",
        "        x = self.pool(F.relu(self.conv1(x)))   # conv1 -> relu -> pool\n",
        "        x = self.pool(F.relu(self.conv2(x)))   # conv2 -> relu -> pool\n",
        "        x = x.view(-1, 64 * 5 * 5)             # flatten\n",
        "        x = F.relu(self.fc1(x))\n",
        "        x = self.fc2(x)\n",
        "        return x\n"
      ],
      "metadata": {
        "id": "svInbonZMSG3"
      },
      "execution_count": null,
      "outputs": []
    },
    {
      "cell_type": "markdown",
      "source": [
        "3. Define Loss Function & Optimizer\n",
        "\n",
        "Loss: CrossEntropyLoss (standard for classification).\n",
        "\n",
        "Optimizer: Adam or SGD."
      ],
      "metadata": {
        "id": "70odTB6qMnGU"
      }
    },
    {
      "cell_type": "code",
      "source": [
        "import torch.optim as optim\n",
        "\n",
        "model = CNN()\n",
        "criterion = nn.CrossEntropyLoss()\n",
        "optimizer = optim.Adam(model.parameters(), lr=0.001)\n"
      ],
      "metadata": {
        "id": "GcTVBXxKMo7e"
      },
      "execution_count": null,
      "outputs": []
    },
    {
      "cell_type": "markdown",
      "source": [
        "4. Train the Model\n",
        "\n",
        "Loop through epochs:\n",
        "\n",
        "Forward pass\n",
        "\n",
        "Compute loss\n",
        "\n",
        "Backward pass\n",
        "\n",
        "Update weights"
      ],
      "metadata": {
        "id": "6hx4LDa7Mxlm"
      }
    },
    {
      "cell_type": "code",
      "source": [
        "for epoch in range(5):  # 5 epochs\n",
        "    running_loss = 0.0\n",
        "    for images, labels in train_loader:\n",
        "        optimizer.zero_grad()\n",
        "        outputs = model(images)\n",
        "        loss = criterion(outputs, labels)\n",
        "        loss.backward()\n",
        "        optimizer.step()\n",
        "        running_loss += loss.item()\n",
        "    print(f\"Epoch {epoch+1}, Loss: {running_loss/len(train_loader)}\")\n"
      ],
      "metadata": {
        "colab": {
          "base_uri": "https://localhost:8080/"
        },
        "id": "UZbpArxeMyG7",
        "outputId": "2d07ba92-8664-4721-f49e-b8cf8cc48f5e"
      },
      "execution_count": null,
      "outputs": [
        {
          "output_type": "stream",
          "name": "stdout",
          "text": [
            "Epoch 1, Loss: 0.16199082209776317\n",
            "Epoch 2, Loss: 0.04673320141276901\n",
            "Epoch 3, Loss: 0.03139953716648872\n",
            "Epoch 4, Loss: 0.023266792876088915\n",
            "Epoch 5, Loss: 0.01707157430340544\n"
          ]
        }
      ]
    },
    {
      "cell_type": "markdown",
      "source": [
        "Evaluate the Model\n",
        "\n",
        "Compute accuracy on test set.\n",
        "\n",
        "Generate confusion matrix to see misclassifications."
      ],
      "metadata": {
        "id": "3YnYgUlxNC3G"
      }
    },
    {
      "cell_type": "code",
      "source": [
        "from sklearn.metrics import accuracy_score, confusion_matrix\n",
        "import numpy as np\n",
        "\n",
        "y_true, y_pred = [], []\n",
        "with torch.no_grad():\n",
        "    for images, labels in test_loader:\n",
        "        outputs = model(images)\n",
        "        _, predicted = torch.max(outputs, 1)\n",
        "        y_true.extend(labels.numpy())\n",
        "        y_pred.extend(predicted.numpy())\n",
        "\n",
        "print(\"Accuracy:\", accuracy_score(y_true, y_pred))\n",
        "print(\"Confusion Matrix:\\n\", confusion_matrix(y_true, y_pred))\n"
      ],
      "metadata": {
        "colab": {
          "base_uri": "https://localhost:8080/"
        },
        "id": "o19CazjVNCaZ",
        "outputId": "d42372d3-655e-4a72-bc6d-8d4208e71f82"
      },
      "execution_count": null,
      "outputs": [
        {
          "output_type": "stream",
          "name": "stdout",
          "text": [
            "Accuracy: 0.99\n",
            "Confusion Matrix:\n",
            " [[ 977    0    0    0    0    0    0    3    0    0]\n",
            " [   0 1127    0    3    0    0    1    3    1    0]\n",
            " [   0    1 1026    0    0    0    0    4    1    0]\n",
            " [   0    0    2 1007    0    0    0    1    0    0]\n",
            " [   0    1    1    0  958    0    5    0    0   17]\n",
            " [   1    0    0   14    0  875    1    0    1    0]\n",
            " [   2    2    1    0    1    1  949    0    2    0]\n",
            " [   0    0    3    0    0    0    0 1023    1    1]\n",
            " [   3    1    3    2    0    0    1    2  958    4]\n",
            " [   0    0    0    1    1    3    0    3    1 1000]]\n"
          ]
        }
      ]
    },
    {
      "cell_type": "markdown",
      "source": [],
      "metadata": {
        "id": "RzbyqKUONOEn"
      }
    },
    {
      "cell_type": "code",
      "source": [],
      "metadata": {
        "id": "rG7XEeF1NO5x"
      },
      "execution_count": null,
      "outputs": []
    }
  ]
}